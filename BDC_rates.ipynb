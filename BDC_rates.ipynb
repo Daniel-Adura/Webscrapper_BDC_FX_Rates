{
 "cells": [
  {
   "cell_type": "code",
   "execution_count": 26,
   "metadata": {},
   "outputs": [],
   "source": [
    "import requests\n",
    "\n",
    "from openpyxl import load_workbook\n",
    "\n",
    "import numpy as np\n",
    "\n",
    "import urllib.request\n",
    "\n",
    "import pandas as pd\n",
    "\n",
    "from bs4 import BeautifulSoup\n",
    "import lxml\n",
    "import datetime as dt\n",
    "\n",
    "FX_Rates = requests.get(\"https://nairablackmarket.com/page/Black-market-exchange%20rates\").text\n",
    "\n",
    "\n",
    "Soup = BeautifulSoup(FX_Rates, 'lxml')\n",
    "\n",
    "Complete_Table = Soup.find('tbody')\n",
    "\n",
    "tabledata = Complete_Table.find_all('td')\n",
    "\n",
    "Master_Data = []\n",
    "\n",
    "Data = []\n",
    "for val in tabledata:\n",
    "     val = str(val.text.strip().replace('\\n', \"\"))\n",
    "     Data.append(val)\n",
    "\n",
    "rows = int(len(Data)/5)\n",
    "\n",
    "Data = np.array(Data).reshape(rows,5)\n",
    "for valu in Data:\n",
    "    Master_Data.append(valu)\n",
    "\n",
    "Cols = Master_Data[0]\n",
    "\n",
    "FX_DF = pd.DataFrame(data = Master_Data[5:8], columns = Cols)"
   ]
  },
  {
   "attachments": {},
   "cell_type": "markdown",
   "metadata": {},
   "source": [
    "#### -------------- Viewing Data ------------------"
   ]
  },
  {
   "cell_type": "code",
   "execution_count": 27,
   "metadata": {},
   "outputs": [
    {
     "data": {
      "text/html": [
       "<div>\n",
       "<style scoped>\n",
       "    .dataframe tbody tr th:only-of-type {\n",
       "        vertical-align: middle;\n",
       "    }\n",
       "\n",
       "    .dataframe tbody tr th {\n",
       "        vertical-align: top;\n",
       "    }\n",
       "\n",
       "    .dataframe thead th {\n",
       "        text-align: right;\n",
       "    }\n",
       "</style>\n",
       "<table border=\"1\" class=\"dataframe\">\n",
       "  <thead>\n",
       "    <tr style=\"text-align: right;\">\n",
       "      <th></th>\n",
       "      <th>Currency</th>\n",
       "      <th>Buy Rates (₦)</th>\n",
       "      <th>Sell Rates (₦)</th>\n",
       "      <th>Dates</th>\n",
       "      <th>Source</th>\n",
       "    </tr>\n",
       "  </thead>\n",
       "  <tbody>\n",
       "    <tr>\n",
       "      <th>0</th>\n",
       "      <td>USD</td>\n",
       "      <td>740**</td>\n",
       "      <td>747**</td>\n",
       "      <td>15/12/22</td>\n",
       "      <td>Lagos Aboki/BDC</td>\n",
       "    </tr>\n",
       "    <tr>\n",
       "      <th>1</th>\n",
       "      <td>EUR</td>\n",
       "      <td>770**</td>\n",
       "      <td>780**</td>\n",
       "      <td>15/12/22</td>\n",
       "      <td></td>\n",
       "    </tr>\n",
       "    <tr>\n",
       "      <th>2</th>\n",
       "      <td>GBP</td>\n",
       "      <td>908**</td>\n",
       "      <td>918**</td>\n",
       "      <td>15/12/22</td>\n",
       "      <td></td>\n",
       "    </tr>\n",
       "  </tbody>\n",
       "</table>\n",
       "</div>"
      ],
      "text/plain": [
       "  Currency Buy Rates (₦) Sell Rates (₦)     Dates           Source\n",
       "0      USD         740**          747**  15/12/22  Lagos Aboki/BDC\n",
       "1      EUR         770**          780**  15/12/22                 \n",
       "2      GBP         908**          918**  15/12/22                 "
      ]
     },
     "execution_count": 27,
     "metadata": {},
     "output_type": "execute_result"
    }
   ],
   "source": [
    "FX_DF"
   ]
  },
  {
   "attachments": {},
   "cell_type": "markdown",
   "metadata": {},
   "source": [
    "#### -------------- To create an excel file wherein data for subsequent days would be stored -------------\n",
    "\n",
    "- Run only once then \"comment\" it out."
   ]
  },
  {
   "cell_type": "code",
   "execution_count": 28,
   "metadata": {},
   "outputs": [],
   "source": [
    "# FX_DF.to_excel(\"FX_BDC Rates.xlsx\", sheet_name = \"Blackmarket Rates\") "
   ]
  },
  {
   "cell_type": "code",
   "execution_count": 29,
   "metadata": {},
   "outputs": [
    {
     "name": "stdout",
     "output_type": "stream",
     "text": [
      "[['Currency' 'Buy Rates (₦)' 'Sell Rates (₦)' 'Dates' 'Source']\n",
      " ['USDT' '750.90' '750.60' '15/12/22' 'P2P']\n",
      " ['EUR' '798.83' '798.51' '15/12/22' '\"']\n",
      " ['GBP' '927.03' '926.66' '15/12/22' '\"']\n",
      " ['' '' '' '' '']\n",
      " ['USD' '740**' '747**' '15/12/22' 'Lagos Aboki/BDC']\n",
      " ['EUR' '770**' '780**' '15/12/22' '']\n",
      " ['GBP' '908**' '918**' '15/12/22' '']\n",
      " ['Currency' 'Buy Rates Inflow (₦)' 'Sell Rates Outflow (₦)' 'Dates'\n",
      "  'Source']\n",
      " ['USD' '745**' '755**' '15/12/22' 'Inflow/Bank Transfer Rates']\n",
      " ['EUR' '765**' '790**' '15/12/22' '']\n",
      " ['GBP' '900**' '935**' '15/12/22' '']]\n"
     ]
    }
   ],
   "source": [
    "print(Data)"
   ]
  },
  {
   "attachments": {},
   "cell_type": "markdown",
   "metadata": {},
   "source": [
    "#### ------ Using openpyxl to input new rows of data in the file -------"
   ]
  },
  {
   "cell_type": "code",
   "execution_count": 30,
   "metadata": {},
   "outputs": [],
   "source": [
    "from openpyxl import load_workbook\n",
    "\n",
    "path = \"FX_BDC Rates.xlsx\"\n",
    "\n",
    "wb = load_workbook(path)\n",
    "sheet = wb[\"Blackmarket Rates\"]\n",
    "# Find last row of written data\n",
    "last_row = sheet.max_row + 1\n",
    "\n",
    "# Writing your data at the bottom\n",
    "# USD\n",
    "sheet.cell(row=last_row, column=2).value = Data[5][0]\n",
    "sheet.cell(row=last_row, column=3).value = Data[5][1]\n",
    "sheet.cell(row=last_row, column=4).value = Data[5][2]\n",
    "sheet.cell(row=last_row, column=5).value = Data[5][3]\n",
    "sheet.cell(row=last_row, column=6).value = Data[5][4]\n",
    "\n",
    "#EUR\n",
    "sheet.cell(row=last_row+1, column=2).value = Data[6][0]\n",
    "sheet.cell(row=last_row+1, column=3).value = Data[6][1]\n",
    "sheet.cell(row=last_row+1, column=4).value = Data[6][2]\n",
    "sheet.cell(row=last_row+1, column=5).value = Data[6][3]\n",
    "sheet.cell(row=last_row+1, column=6).value = Data[6][4]\n",
    "\n",
    "#GBP\n",
    "sheet.cell(row=last_row+2, column=2).value = Data[7][0]\n",
    "sheet.cell(row=last_row+2, column=3).value = Data[7][1]\n",
    "sheet.cell(row=last_row+2, column=4).value = Data[7][2]\n",
    "sheet.cell(row=last_row+2, column=5).value = Data[7][3]\n",
    "sheet.cell(row=last_row+2, column=6).value = Data[7][4]\n",
    "\n",
    "\n",
    "wb.save(path)"
   ]
  }
 ],
 "metadata": {
  "kernelspec": {
   "display_name": "Python 3.10.5 64-bit",
   "language": "python",
   "name": "python3"
  },
  "language_info": {
   "codemirror_mode": {
    "name": "ipython",
    "version": 3
   },
   "file_extension": ".py",
   "mimetype": "text/x-python",
   "name": "python",
   "nbconvert_exporter": "python",
   "pygments_lexer": "ipython3",
   "version": "3.10.5"
  },
  "orig_nbformat": 4,
  "vscode": {
   "interpreter": {
    "hash": "09ee91ebffae6b5215c2e272f55b639b0f33a2a13a3abadeab5b128d1c341732"
   }
  }
 },
 "nbformat": 4,
 "nbformat_minor": 2
}
